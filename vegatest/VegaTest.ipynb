{
 "cells": [
  {
   "cell_type": "code",
   "execution_count": null,
   "id": "80e6d55e",
   "metadata": {},
   "outputs": [],
   "source": []
  }
 ],
 "metadata": {
  "kernelspec": {
   "display_name": "Idris 2",
   "language": "idris2",
   "name": "idris2jupyter"
  },
  "language_info": {
   "file_extension": ".idr",
   "mimetype": "text/x-idris",
   "name": "idris2"
  }
 },
 "nbformat": 4,
 "nbformat_minor": 5
}
